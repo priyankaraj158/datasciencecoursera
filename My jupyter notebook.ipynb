{
    "nbformat_minor": 1, 
    "cells": [
        {
            "source": "# My Jupyter Notebook on IBM Data Science Experience", 
            "cell_type": "markdown", 
            "metadata": {
                "collapsed": true
            }
        }, 
        {
            "source": "<b> Priyanka Raj </b> \n\nCurrent occupation- Analyst \nDesired occupation - Data Scientist ", 
            "cell_type": "markdown", 
            "metadata": {}
        }, 
        {
            "source": "<i> I got interested in data science for 3 main reasons:\n\n1) I love telling stories with data and using data to help bring that data to life. As a data scientist I can turn seemingly meaningless data into a recommendation to help a company improve its product, services, or experiences. This can help a business grow or get more clients.\n\n2) I am a technophile. I love using the latest and greatest technology. Whether that is hardware or software, I enjoy getting my hands on with these new technologies to see how that can enrich our lives.\n\n3) Possibly the number one reason I got into data science, I have a passion for helping. In data science that could be helping a business understand its customers or improving the way it uses its customer data. I get a fantastic feeling of job satisfaction when I see the fruits of my labor helping in many different ways. </i>\n", 
            "cell_type": "markdown", 
            "metadata": {}
        }, 
        {
            "source": "## My code in cell 5 is used to add two numbers ", 
            "cell_type": "markdown", 
            "metadata": {}
        }, 
        {
            "execution_count": 1, 
            "cell_type": "code", 
            "metadata": {}, 
            "outputs": [
                {
                    "execution_count": 1, 
                    "metadata": {}, 
                    "data": {
                        "text/plain": "2"
                    }, 
                    "output_type": "execute_result"
                }
            ], 
            "source": "1+1"
        }, 
        {
            "source": "#### This is the cell where I test some markdown fomat's\n1. Horizontal Rule\n\nThree or more...\n\n---\n\nApples\n\n***\n\nOranges\n\n___\n\nGrapes\n\n2. Tables\n\n\n\nColons can be used to align columns.\n\n| Tables        | Are           | Cool  |\n| ------------- |:-------------:| -----:|\n| col 3 is      | right-aligned | $1600 |\n| col 2 is      | centered      |   $12 |\n| zebra stripes | are neat      |    $1 |\n\nThere must be at least 3 dashes separating each header cell.\nThe outer pipes (|) are optional, and you don't need to make the \nraw Markdown line up prettily. You can also use inline Markdown.\n\nMarkdown | Less | Pretty\n--- | --- | ---\n*Still* | `renders` | **nicely**\n1 | 2 | 3\n\n\n3. Strikethrough\n\nStrikethrough uses two tildes. ~~Apple.~~", 
            "cell_type": "markdown", 
            "metadata": {}
        }, 
        {
            "execution_count": null, 
            "cell_type": "code", 
            "metadata": {}, 
            "outputs": [], 
            "source": ""
        }
    ], 
    "metadata": {
        "kernelspec": {
            "display_name": "Python 3.6", 
            "name": "python3", 
            "language": "python"
        }, 
        "language_info": {
            "mimetype": "text/x-python", 
            "nbconvert_exporter": "python", 
            "version": "3.6.8", 
            "name": "python", 
            "file_extension": ".py", 
            "pygments_lexer": "ipython3", 
            "codemirror_mode": {
                "version": 3, 
                "name": "ipython"
            }
        }
    }, 
    "nbformat": 4
}