{
    "nbformat_minor": 1, 
    "cells": [
        {
            "source": "# My Jupyter Notebook on IBM Data Science Experience", 
            "cell_type": "markdown", 
            "metadata": {
                "collapsed": true
            }
        }, 
        {
            "source": "<b> Priyanka Raj </b> \n\nCurrent occupation- Analyst \nDesired occupation - Data Scientist ", 
            "cell_type": "markdown", 
            "metadata": {}
        }, 
        {
            "source": "<i> I got interested in data science for 3 main reasons:\n\n1) I love telling stories with data and using data to help bring that data to life. As a data scientist I can turn seemingly meaningless data into a recommendation to help a company improve its product, services, or experiences. This can help a business grow or get more clients.\n\n2) I am a technophile. I love using the latest and greatest technology. Whether that is hardware or software, I enjoy getting my hands on with these new technologies to see how that can enrich our lives.\n\n3) Possibly the number one reason I got into data science, I have a passion for helping. In data science that could be helping a business understand its customers or improving the way it uses its customer data. I get a fantastic feeling of job satisfaction when I see the fruits of my labor helping in many different ways. </i>\n", 
            "cell_type": "markdown", 
            "metadata": {}
        }, 
        {
            "source": "## My code in cell 5 is used to add two numbers ", 
            "cell_type": "markdown", 
            "metadata": {}
        }, 
        {
            "execution_count": 1, 
            "cell_type": "code", 
            "metadata": {}, 
            "outputs": [
                {
                    "execution_count": 1, 
                    "metadata": {}, 
                    "data": {
                        "text/plain": "2"
                    }, 
                    "output_type": "execute_result"
                }
            ], 
            "source": "1+1"
        }, 
        {
            "source": "", 
            "cell_type": "markdown", 
            "metadata": {}
        }
    ], 
    "metadata": {
        "kernelspec": {
            "display_name": "Python 3.6", 
            "name": "python3", 
            "language": "python"
        }, 
        "language_info": {
            "mimetype": "text/x-python", 
            "nbconvert_exporter": "python", 
            "version": "3.6.8", 
            "name": "python", 
            "file_extension": ".py", 
            "pygments_lexer": "ipython3", 
            "codemirror_mode": {
                "version": 3, 
                "name": "ipython"
            }
        }
    }, 
    "nbformat": 4
}